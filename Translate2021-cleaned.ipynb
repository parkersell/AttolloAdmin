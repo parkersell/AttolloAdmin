{
 "cells": [
  {
   "cell_type": "markdown",
   "metadata": {},
   "source": [
    "Most of this was copied from translate 2020"
   ]
  },
  {
   "cell_type": "code",
   "execution_count": null,
   "metadata": {},
   "outputs": [],
   "source": [
    "import pandas as pd\n",
    "import numpy as np\n",
    "import re\n",
    "pd.set_option(\"display.max_rows\", None, \"display.max_columns\", None)"
   ]
  },
  {
   "cell_type": "code",
   "execution_count": null,
   "metadata": {},
   "outputs": [],
   "source": [
    "def read_excel_sheets(xls_path):\n",
    "    \"\"\"Read all sheets of an Excel workbook and return a single DataFrame\"\"\"\n",
    "    print(f'Loading {xls_path} into pandas')\n",
    "    xl = pd.ExcelFile(xls_path)\n",
    "    clslist = []\n",
    "    sheetnames =[]\n",
    "    columns = None\n",
    "    for idx, name in enumerate(xl.sheet_names):\n",
    "        print(f'Reading sheet #{idx}: {name}')\n",
    "        sheet = xl.parse(name)\n",
    "        # Assume index of existing data frame when appended\n",
    "        clslist.append(sheet)\n",
    "        sheetnames.append(name)\n",
    "    return clslist, sheetnames\n",
    "cls2021, names = read_excel_sheets(\"C:/Users/parke/OneDrive/Documents/GitHub/Attollo/MasterSheet CSVS/Master Contact Sheet 2019-2020 Junior Scholars.xlsx\")\n",
    "for i in range(len(names)):\n",
    "    names[i] = names[i].rstrip()"
   ]
  },
  {
   "cell_type": "markdown",
   "metadata": {},
   "source": [
    "## Clean columns"
   ]
  },
  {
   "cell_type": "code",
   "execution_count": null,
   "metadata": {},
   "outputs": [],
   "source": [
    "def cleancolumns(df):\n",
    "    #removes unnamed\n",
    "    df = df.loc[:, ~df.columns.str.contains('^Unnamed')]\n",
    "    if 'Staff Initials' in df.columns:\n",
    "        del df['Staff Initials']\n",
    "    if 'Staff initials' in df.columns:\n",
    "        del df['Staff initials']\n",
    "    if 'Staff Initial' in df.columns:\n",
    "        del df['Staff Initial']\n",
    "    if 'Last Update' in df.columns:\n",
    "        del df['Last Update']\n",
    "    if 'Last Updated' in df.columns:\n",
    "        del df['Last Updated']\n",
    "    return df\n",
    "for i in range(7):\n",
    "    cls2021[i]=cleancolumns(cls2021[i])\n",
    "    \n",
    "def pcol(df):\n",
    "    print(df.columns.size, df.columns)\n",
    "for i in range(7):\n",
    "    pcol(cls2021[i])"
   ]
  },
  {
   "cell_type": "markdown",
   "metadata": {},
   "source": [
    "## Make all into same df"
   ]
  },
  {
   "cell_type": "code",
   "execution_count": null,
   "metadata": {},
   "outputs": [],
   "source": [
    "allcols = cls2021[2].columns\n",
    "\n",
    "#add columns that dont exist\n",
    "count =1\n",
    "for df in cls2021[:6]: \n",
    "    print(names[count-1], '-----')\n",
    "    for c in allcols:\n",
    "        if c not in df.columns:\n",
    "            df[c]=np.nan\n",
    "    df=df.reindex(allcols, axis =\"columns\")\n",
    "    count+=1\n",
    "\n",
    "#concatenate into one dataframe\n",
    "schools = names[:6]\n",
    "alldf= pd.DataFrame()\n",
    "for i in range(6):\n",
    "    cls2021[i][\"School\"] = schools[i]\n",
    "alldf = pd.concat(cls2021[:6], ignore_index =True)\n",
    "alldf.columns"
   ]
  },
  {
   "cell_type": "markdown",
   "metadata": {},
   "source": [
    "## Rename all columns"
   ]
  },
  {
   "cell_type": "code",
   "execution_count": null,
   "metadata": {},
   "outputs": [],
   "source": [
    "orderedcols = {'Student First Name':'fname', 'Student Last Name':'lname', 'Gender':'gender','Student Email':'email', \n",
    "               'Student Phone':'phonenum','School':'schoolid','Shirt Size':'shirt','Short Size':'short',\n",
    "               'Candy':'favcandy','Guardian 1 First Name':'guard1fname','Guardian 1 Last Name':'guard1lname',\n",
    "               'Guardian 1 Phone':'guard1phonenum','Guardian 1 Email':'guard1email','Guardian 1 Occupation':'guard1occ',\n",
    "               'Guardian 1 Shirt Size':'guard1shirt','Guardian 2 First Name':'guard2fname','Guardian 2 Last Name':'guard2lname',\n",
    "               'Guardian 2 Phone':'guard2phonenum','Guardian 2 Email':'guard2email','Guardian 2 Occupation':'guard2occ',\n",
    "               'Guardian 2 Shirt Size':'guard2shirt'}\n",
    "def renamealldf(df):\n",
    "    df.rename(orderedcols, axis=1, inplace=True)\n",
    "    return df\n",
    "renamedalldf= renamealldf(alldf)\n",
    "renamedalldf.head()"
   ]
  },
  {
   "cell_type": "markdown",
   "metadata": {},
   "source": [
    "## Add in Data from Medical Sheet"
   ]
  },
  {
   "cell_type": "code",
   "execution_count": null,
   "metadata": {},
   "outputs": [],
   "source": [
    "cls2021[6] = cls2021[6].rename(columns ={'School District': 'schoolid', 'Last Name':'lname'})\n",
    "cls2021[6] = cleancolumns(cls2021[6])\n",
    "cls2021[6] = cls2021[6].astype(str)\n",
    "cls2021[6] = cls2021[6].applymap(lambda x: re.sub(r'^-$', str(np.NaN), x))\n",
    "cls2021[6]['comments'] =str(np.nan)\n",
    "algcheck = cls2021[6][cls2021[6][\"Allergies\"] != str(np.NaN)].index.tolist()\n",
    "for i in algcheck:\n",
    "    cls2021[6].iloc[i, :][\"comments\"] = \"Allergies: \" + cls2021[6].iloc[i, :]['Allergies']\n",
    "\n",
    "medcheck = cls2021[6][cls2021[6][\"Medical Conditions\"] != str(np.NaN)].index.tolist()\n",
    "for i in medcheck:\n",
    "    x = cls2021[6].iloc[i, :]\n",
    "    if x[\"comments\"] != str(np.NaN):\n",
    "        x[\"comments\"] = x[\"comments\"] + '; Medical Conditions: ' + x[\"Medical Conditions\"]\n",
    "    else:\n",
    "        x[\"comments\"] = 'Medical Conditions: ' + x['Medical Conditions'] \n",
    "    cls2021[6].iloc[i, :] = x\n",
    "    \n",
    "drugcheck = cls2021[6][cls2021[6][\"Medicines\"] != str(np.NaN)].index.tolist()\n",
    "for i in drugcheck:\n",
    "    x = cls2021[6].iloc[i, :]\n",
    "    if x[\"comments\"] != str(np.NaN):\n",
    "        x[\"comments\"] = x[\"comments\"] + '; Medicines: ' + x[\"Medicines\"]\n",
    "    else:\n",
    "        x[\"comments\"] = 'Medicines: ' + x['Medicines'] \n",
    "    cls2021[6].iloc[i, :] = x\n",
    "    \n",
    "notecheck = cls2021[6][cls2021[6][\"Notes\"] != str(np.NaN)].index.tolist()\n",
    "for i in notecheck:\n",
    "    x = cls2021[6].iloc[i, :]\n",
    "    if x[\"comments\"] != str(np.NaN):\n",
    "        x[\"comments\"] = x[\"comments\"]+ '; Notes: ' + x['Notes'] \n",
    "    else:\n",
    "        x[\"comments\"] = 'Notes: ' + x[\"Notes\"]\n",
    "    cls2021[6].iloc[i, :] = x\n",
    "del cls2021[6][\"Allergies\"] \n",
    "del cls2021[6][\"Medical Conditions\"]   \n",
    "del cls2021[6][\"Medicines\"] \n",
    "del cls2021[6][\"Notes\"]   \n",
    "cls2021[6]"
   ]
  },
  {
   "cell_type": "code",
   "execution_count": null,
   "metadata": {},
   "outputs": [],
   "source": [
    "combined = pd.merge(renamedalldf, cls2021[6], on=['lname','schoolid'], how='left')\n",
    "del combined['First Name']\n",
    "#multiple cleo and emma \n",
    "combined =combined.drop([44,45])\n",
    "combined = combined.reset_index(drop=True)\n",
    "combined"
   ]
  },
  {
   "cell_type": "markdown",
   "metadata": {},
   "source": [
    "## Clean all Data"
   ]
  },
  {
   "cell_type": "code",
   "execution_count": null,
   "metadata": {},
   "outputs": [],
   "source": [
    "def transform(dforig):\n",
    "    df = dforig.copy()\n",
    "    \n",
    "    df = df.astype(str)\n",
    "    df = df.applymap(lambda x: re.sub(r'^-$', str(np.NaN), x))\n",
    "    #make all lower email\n",
    "    df['email'] = df['email'].str.lower()\n",
    "    df['guard1email'] = df['guard1email'].str.lower()\n",
    "    df['guard2email'] = df['guard2email'].str.lower()\n",
    "    #remove all nonnumbers in phonenumbers\n",
    "    df['phonenum'] = df['phonenum'].str.replace('-', '', regex=True).str.replace(' ', '', regex=True).str.replace('FBMessenger','', regex=True).str.replace('kevinsingh422@yahoo.com','', regex=True)\n",
    "    df['guard1phonenum'] = df['guard1phonenum'].str.replace('-', '').str.replace(' ', '')\n",
    "    df['guard2phonenum'] = df['guard2phonenum'].str.replace('-', '').str.replace(' ', '')\n",
    "    # convert all phonenumbers to string\n",
    "    df['phonenum'] = df['phonenum'].astype(str)    \n",
    "    df['guard1phonenum'] = df['guard1phonenum'].astype(str)\n",
    "    df['guard2phonenum'] = df['guard2phonenum'].astype(str)\n",
    "    # remove all questions in sizes\n",
    "    df['shirt'] = df['shirt'].str.replace('2X', 'XXL', regex=True).str.replace('3X', 'XXL', regex=True).str.replace('(', '', regex=True).str.replace(')', '', regex=True).str.replace(' ', '')\n",
    "    df['short'] = df['short'].str.replace('2X', 'XXL', regex=True).str.replace('3X', 'XXL', regex=True).str.replace('(', '', regex=True).str.replace(')', '', regex=True).str.replace(' ', '')\n",
    "    df['guard1shirt'] = df['guard1shirt'].str.replace('2XL', 'XXL', regex=True).str.replace('2X', 'XXL', regex=True,case=False).str.replace('3XL', 'XXL', regex=True).str.replace('3X', 'XXL', regex=True, case=False).str.replace('(', '', regex=True).str.replace(')', '', regex=True).str.replace(' ', '').str.replace('XXXL','XL').str.replace('1XL','XL')\n",
    "    df['guard2shirt'] = df['guard2shirt'].str.replace('2XL', 'XXL', regex=True).str.replace('2X', 'XXL', regex=True).str.replace('3XL', 'XXL', regex=True).str.replace('3X', 'XXL', regex=True).str.replace('(', '', regex=True).str.replace(')', '', regex=True).str.replace(' ', '').str.replace('4XL','XXL')\n",
    "    df['gradyear'] = 2020\n",
    "    \n",
    "    emcheck = df[df[\"Emergency Contact\"] != str(np.NaN)].index.tolist()\n",
    "    df['emergcontact']=np.nan\n",
    "    print(emcheck)\n",
    "    for i in emcheck:\n",
    "        x = df.iloc[i, :]\n",
    "        x['emergcontact'] = x[\"Emergency Contact\"]+ ' ' + x[\"EC Phone\"]\n",
    "        df.iloc[i, :] =x\n",
    "    del df[\"Emergency Contact\"]\n",
    "    del df[\"EC Phone\"]\n",
    "    \n",
    "    relcheck = df[df[\"Guardian 1 Relationship\"] != str(np.NaN)].index.tolist()\n",
    "    print(relcheck)\n",
    "    for i in relcheck:\n",
    "        x = df.iloc[i, :]\n",
    "        if x[\"comments\"] != str(np.NaN):\n",
    "            x['comments'] = x[\"comments\"] + '; Guardian 1 Relationship: ' + x[\"Guardian 1 Relationship\"]\n",
    "        else:\n",
    "            x['comments'] = 'Guardian 1 Relationship: ' + x[\"Guardian 1 Relationship\"]\n",
    "        df.iloc[i, :] =x\n",
    "    del df[\"Guardian 1 Relationship\"]\n",
    "        \n",
    "    rel2check = df[df[\"Guardian 2 Relationship\"] != str(np.NaN)].index.tolist()\n",
    "    for i in rel2check:\n",
    "        x = df.iloc[i, :]\n",
    "        if x[\"comments\"] != str(np.NaN):\n",
    "            x['comments'] = x[\"comments\"] + '; Guardian 2 Relationship: ' + x[\"Guardian 2 Relationship\"]\n",
    "        else:\n",
    "            x['comments'] = 'Guardian 2 Relationship: ' + x[\"Guardian 2 Relationship\"]\n",
    "        df.iloc[i, :] =x\n",
    "    del df[\"Guardian 2 Relationship\"]\n",
    "    \n",
    "    medcheck = df[df[\"Medical Conditions\"] != str(np.NaN)].index.tolist()\n",
    "    for i in medcheck:\n",
    "        x = df.iloc[i, :]\n",
    "        if x[\"comments\"] != str(np.NaN):\n",
    "            x[\"comments\"] = x[\"comments\"] + '; Medical Conditions: ' + x[\"Medical Conditions\"]\n",
    "        else:\n",
    "            x[\"comments\"] = 'Medical Conditions: ' + x['Medical Conditions'] \n",
    "        df.iloc[i, :] = x\n",
    "    del df[\"Medical Conditions\"]\n",
    "    return df\n",
    "cleancombined = transform(combined)\n",
    "\n",
    "def intphone(df, var):\n",
    "    for i in df.index:\n",
    "        if df.loc[i,var] == str(np.nan):\n",
    "            df.loc[i,var]== np.nan\n",
    "        else:\n",
    "            df.loc[i,var] = '+1'+df.loc[i,var]\n",
    "intphone(cleancombined, 'phonenum')\n",
    "intphone(cleancombined, 'guard1phonenum')\n",
    "intphone(cleancombined, 'guard2phonenum')\n",
    "cleancombined"
   ]
  },
  {
   "cell_type": "markdown",
   "metadata": {},
   "source": [
    "## Write to csv"
   ]
  },
  {
   "cell_type": "code",
   "execution_count": null,
   "metadata": {},
   "outputs": [],
   "source": [
    "#needed blank columns like transdf2021 to use same upload code\n",
    "cleancombined['dob']= np.nan\n",
    "cleancombined['student_ig']= np.nan\n",
    "cleancombined['address']= np.nan\n",
    "cleancombined['race']= np.nan\n",
    "cleancombined['guard1occ']= np.nan\n",
    "cleancombined['guard2occ']= np.nan\n",
    "\n",
    "filepath = 'attollo/basic/management/commands/cls2021.csv'\n",
    "cleancombined.to_csv(filepath)"
   ]
  },
  {
   "cell_type": "code",
   "execution_count": null,
   "metadata": {},
   "outputs": [],
   "source": [
    "cleancombined[\"schoolid\"].unique().tolist()"
   ]
  },
  {
   "cell_type": "code",
   "execution_count": null,
   "metadata": {},
   "outputs": [],
   "source": [
    "filepath = 'attollo/basic/management/commands/cls2021.csv'\n",
    "out = pd.read_csv(filepath)\n",
    "out.iloc[83,:]"
   ]
  },
  {
   "cell_type": "code",
   "execution_count": null,
   "metadata": {},
   "outputs": [],
   "source": []
  }
 ],
 "metadata": {
  "kernelspec": {
   "display_name": "Python 3",
   "language": "python",
   "name": "python3"
  },
  "language_info": {
   "codemirror_mode": {
    "name": "ipython",
    "version": 3
   },
   "file_extension": ".py",
   "mimetype": "text/x-python",
   "name": "python",
   "nbconvert_exporter": "python",
   "pygments_lexer": "ipython3",
   "version": "3.7.4"
  }
 },
 "nbformat": 4,
 "nbformat_minor": 5
}
