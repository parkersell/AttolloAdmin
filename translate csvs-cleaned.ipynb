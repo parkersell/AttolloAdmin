{
 "cells": [
  {
   "cell_type": "code",
   "execution_count": null,
   "metadata": {},
   "outputs": [],
   "source": [
    "import pandas as pd\n",
    "import numpy as np\n",
    "pd.set_option(\"display.max_rows\", None, \"display.max_columns\", None)"
   ]
  },
  {
   "cell_type": "code",
   "execution_count": null,
   "metadata": {},
   "outputs": [],
   "source": [
    "columbia = pd.read_csv(\"MasterSheet CSVS/Columbia.csv\")# student ig, candy, medical conditions\n",
    "ephrata = pd.read_csv(\"MasterSheet CSVS/Ephrata.csv\")#comments, medical conditions \n",
    "lcath = pd.read_csv(\"MasterSheet CSVS/Lancaster Catholic.csv\")#medical conditions, comments\n",
    "manCent = pd.read_csv(\"MasterSheet CSVS/Manheim Central.csv\")#medical conditions, comments\n",
    "manTown = pd.read_csv(\"MasterSheet CSVS/Manheim Township.csv\")#comments\n",
    "penn = pd.read_csv(\"MasterSheet CSVS/Penn Manor.csv\")#20 columns\n",
    "total = [columbia, ephrata, lcath, manCent, manTown, penn]"
   ]
  },
  {
   "cell_type": "code",
   "execution_count": null,
   "metadata": {},
   "outputs": [],
   "source": [
    "def pcol(df):\n",
    "    print(df.columns.size, df.columns)\n",
    "# for i in total:\n",
    "#     pcol(i)\n",
    "allcols = columbia.columns.tolist()\n",
    "allcols.append(\"Comments\")"
   ]
  },
  {
   "cell_type": "code",
   "execution_count": null,
   "metadata": {},
   "outputs": [],
   "source": [
    "count =1\n",
    "for df in total: \n",
    "    print(count)\n",
    "    for c in allcols:\n",
    "        if c not in df.columns:\n",
    "            df[c]=np.nan\n",
    "    df=df.reindex(allcols, axis =\"columns\")\n",
    "    count+=1\n",
    "allcols"
   ]
  },
  {
   "cell_type": "code",
   "execution_count": null,
   "metadata": {},
   "outputs": [],
   "source": [
    "print(manTown.columns, columbia.columns)"
   ]
  },
  {
   "cell_type": "code",
   "execution_count": null,
   "metadata": {},
   "outputs": [],
   "source": [
    "schools = [\"Columbia\", \"Ephrata\", \"Lancaster Catholic\", \"Manheim Central\", \"Manheim Township\", \"Penn Manor\"]\n",
    "for i in range(len(total)):\n",
    "    total[i][\"School\"] = schools[i]\n",
    "alldf = pd.concat(total, ignore_index =True)\n",
    "alldf"
   ]
  },
  {
   "cell_type": "code",
   "execution_count": null,
   "metadata": {},
   "outputs": [],
   "source": [
    "def splitname(df, name):\n",
    "    df1 = df[name].str.split(\" \",expand=True,)\n",
    "    df1.columns = ['{}{}'.format(name, x+1) for x in df1.columns]\n",
    "    df = df.join(df1)\n",
    "    name2 = name+'2'\n",
    "    name3 = name+'3'\n",
    "    name4 = name+'4'\n",
    "    if name3 in df:\n",
    "        check = df[df[name3].notnull()].index.tolist()\n",
    "        print(name3, '-',check)\n",
    "        \n",
    "        for i in check:\n",
    "            x = df.iloc[i, :]\n",
    "            x[name2] = x[name2] + ' ' + x[name3]\n",
    "            df.iloc[i, :] = x\n",
    "        del df[name3] \n",
    "    if name4 in df:\n",
    "        check = df[df[name4].notnull()].index.tolist()\n",
    "        print(name4, '-', check)\n",
    "        \n",
    "        for i in check:\n",
    "            x = df.iloc[i, :]\n",
    "            x[name2] = x[name2] + ' ' + x[name4]\n",
    "            df.iloc[i, :] = x\n",
    "        del df[name4]\n",
    "    return df\n",
    "\n",
    "def cleanshirtsize(df, var):\n",
    "    df[var] =df[var].str.lower() \n",
    "    df[var]= df[var].str.replace('large', 'l').str.replace('medium','m').str.replace('small','s').str.replace('médium','m')\n",
    "    df[var]= df[var].str.replace('lx', 'xl').str.replace('x-l', 'xl').str.replace('2xl', 'xxl').replace('adultl', 'l').replace('2x','xxl')\n",
    "    df[var]= df[var].str.replace('women’sxl', 'xl').str.replace('3xl','xxl').str.replace('m/l','l').str.replace('mors','m')\n",
    "    df[var]= df[var].str.upper()\n",
    "    return df\n",
    "\n",
    "def cleanrace(df):\n",
    "    v = 'Race'\n",
    "    df[v] = df[v].str.lower().str.title().str.replace('Caucasian,White', 'White', regex=True)\n",
    "    df[v]= df[v].str.replace('White,Caucasian', 'White', regex=True)\n",
    "    return df\n",
    "\n",
    "def transform(dforig):\n",
    "    df = dforig.copy()\n",
    "    \n",
    "    #make all lower email\n",
    "    df['Student Email'] = df['Student Email'].str.lower()\n",
    "    df['Guardian 1 Email'] = df['Guardian 1 Email'].str.lower()\n",
    "    df['Guardian 2 Email'] = df['Guardian 2 Email'].str.lower()\n",
    "    #remove all nonnumbers in phonenumbers\n",
    "    df['Student Phone'] = df['Student Phone'].str.replace('-', '').str.replace(' ', '')\n",
    "    df['Guardian 1 Phone'] = df['Guardian 1 Phone'].str.replace('-', '').str.replace(' ', '')\n",
    "    df['Guardian 2 Phone'] = df['Guardian 2 Phone'].str.replace('-', '').str.replace(' ', '')\n",
    "    df['Emergency Contact'] = df['Emergency Contact'].str.replace('-', '')\n",
    "    # remove all questions in sizes\n",
    "    df['Shirt Size'] = df['Shirt Size'].str.replace('?', '', regex=True).str.replace(' ', '', regex=True)\n",
    "    df['Short Size'] = df['Short Size'].str.replace('?', '', regex=True).str.replace(' ', '', regex=True)\n",
    "    df['Guardian 1 Shirt Size'] = df['Guardian 1 Shirt Size'].str.replace('?', '', regex=True).str.replace(' ', '', regex=True)\n",
    "    \n",
    "    df['bday'] = df['Birthdate'].apply(lambda x: pd.to_datetime(x, errors='coerce'))\n",
    "    print(df[df.bday.isnull()]['Birthdate'])\n",
    "    \n",
    "    medcheck = df[df[\"Medical Conditions\"].notnull()].index.tolist()\n",
    "        \n",
    "        \n",
    "    for i in medcheck:\n",
    "        x = df.iloc[i, :]\n",
    "        if pd.isna(x[\"Comments\"]):\n",
    "            x[\"Comments\"] = 'Medical Conditions: ' + x[\"Medical Conditions\"]\n",
    "        else:\n",
    "            print(x[\"Comments\"])\n",
    "            x[\"Comments\"] = x[\"Comments\"] + ' Medical Conditions: ' + x[\"Medical Conditions\"]\n",
    "        df.iloc[i, :] = x\n",
    "    del df[\"Medical Conditions\"] \n",
    "    \n",
    "    #Split Names\n",
    "    df = splitname(df, \"Student Name\")   \n",
    "    df = splitname(df, \"Guardian 1 Name\")      \n",
    "    df = splitname(df, \"Guardian 2 Name\")      \n",
    "    \n",
    "    df = cleanshirtsize(df, 'Guardian 1 Shirt Size')\n",
    "    df = cleanrace(df)\n",
    "    return df\n",
    "transdf = transform(alldf)"
   ]
  },
  {
   "cell_type": "code",
   "execution_count": null,
   "metadata": {},
   "outputs": [],
   "source": [
    "# for i in range(len(transdf)):\n",
    "#     print(transdf.loc[i,'Guardian 1 Name'], transdf.loc[i,'Guardian 1 Phone'],'-',transdf.loc[i,'Guardian 2 Name'], transdf.loc[i,'Guardian 2 Phone'],'-',transdf.loc[i,'Emergency Contact'])\n",
    "print(transdf[transdf['Guardian 2 Name1'].isnull()]['Guardian 2 Name1'])\n",
    "print(transdf[transdf['Guardian 2 Name2'].isnull()]['Guardian 2 Name2'])\n",
    "print(transdf.loc[101,:])"
   ]
  },
  {
   "cell_type": "code",
   "execution_count": null,
   "metadata": {},
   "outputs": [],
   "source": [
    "orderedcols = {'Student Name1':'fname', 'Student Name2':'lname', 'Student Email':'email', \n",
    "               'Student Phone':'phonenum','bday':'dob','School':'schoolid','Gender':'gender','Race':'race',\n",
    "               'Address':'address','Shirt Size':'shirt','Short Size':'short','Student IG':'student_ig',\n",
    "               'Favorite Candy':'favcandy','Guardian 1 Name1':'guard1fname','Guardian 1 Name2':'guard1lname',\n",
    "               'Guardian 1 Phone':'guard1phonenum','Guardian 1 Email':'guard1email','Guardian 1 Occupation':'guard1occ',\n",
    "               'Guardian 1 Shirt Size':'guard1shirt','Guardian 2 Name1':'guard2fname','Guardian 2 Name2':'guard2lname',\n",
    "               'Guardian 2 Phone':'guard2phonenum','Guardian 2 Email':'guard2email','Guardian 2 Occupation':'guard2occ',\n",
    "               'Guardian 2 Shirt Size':'guard2shirt','Emergency Contact':'emergcontact','Comments':'comments'}"
   ]
  },
  {
   "cell_type": "code",
   "execution_count": null,
   "metadata": {},
   "outputs": [],
   "source": [
    "transdf.columns"
   ]
  },
  {
   "cell_type": "code",
   "execution_count": null,
   "metadata": {},
   "outputs": [],
   "source": [
    "def cleantransdf(df):\n",
    "    df.rename(orderedcols, axis=1, inplace=True)\n",
    "cleantransdf(transdf)"
   ]
  },
  {
   "cell_type": "code",
   "execution_count": null,
   "metadata": {},
   "outputs": [],
   "source": [
    "transdf.head()"
   ]
  },
  {
   "cell_type": "code",
   "execution_count": null,
   "metadata": {},
   "outputs": [],
   "source": [
    "def intphone(df, var):\n",
    "    df[var] = '+1'+df[var]\n",
    "intphone(transdf, 'phonenum')\n",
    "intphone(transdf, 'guard1phonenum')\n",
    "intphone(transdf, 'guard2phonenum')"
   ]
  },
  {
   "cell_type": "code",
   "execution_count": null,
   "metadata": {},
   "outputs": [],
   "source": [
    "filepath = 'attollo/basic/management/commands/transdf2022.csv'\n",
    "transdf.to_csv(filepath)"
   ]
  },
  {
   "cell_type": "code",
   "execution_count": null,
   "metadata": {},
   "outputs": [],
   "source": [
    "transdf = pd.read_csv(filepath)"
   ]
  },
  {
   "cell_type": "code",
   "execution_count": null,
   "metadata": {},
   "outputs": [],
   "source": [
    "transdf"
   ]
  }
 ],
 "metadata": {
  "kernelspec": {
   "display_name": "Python 3",
   "language": "python",
   "name": "python3"
  },
  "language_info": {
   "codemirror_mode": {
    "name": "ipython",
    "version": 3
   },
   "file_extension": ".py",
   "mimetype": "text/x-python",
   "name": "python",
   "nbconvert_exporter": "python",
   "pygments_lexer": "ipython3",
   "version": "3.7.4"
  }
 },
 "nbformat": 4,
 "nbformat_minor": 5
}
